{
 "cells": [
  {
   "cell_type": "markdown",
   "metadata": {},
   "source": [
    "## 背景\n",
    "\n",
    "`MovieLens`数据集是一个广泛用来研究推荐系统算法的一个数据集。这个数据集包含了来自[电影推荐网站](https://movielens.org/)多年积累的数据。我们将基于这个数据集练习数据的处理和分析。\n",
    "\n",
    "从 [grouplens](http://files.grouplens.org/datasets/movielens/ml-latest-small.zip) 下载数据集 MovieLens 1M Dataset。\n",
    "数据集包含6个文件：\n",
    "- `tags.csv` 用户给电影打的标签:\n",
    "    - userId\n",
    "    - movieId\n",
    "    - tag\n",
    "    - timestamp\n",
    "- `ratings.csv` 用户给电影的评分:\n",
    "    - userId\n",
    "    - movieId\n",
    "    - rating\n",
    "    - timestamp\n",
    "- `movies.csv` 电影信息:\n",
    "    - movieId\n",
    "    - title\n",
    "    - genres\n",
    "- `links.csv` 链接到其他资源的`id`:\n",
    "    - movieId\n",
    "    - imdbId\n",
    "    - tmbdId\n",
    "\n",
    "## 需求\n",
    "\n",
    "读取rates.csv文件，完成：\n",
    "\n",
    "1. 将每1分做为一档，电影的评分共分为5档，(0:1], (1,2], (2, 3], (3, 4], (4, 5], 通过pandas包求出每个评分档共有多少部电影\n",
    "\n",
    "2. 添加一个comment列，对平均分4分以上的电影标‘推荐’，其他标‘不推荐’，输出到一个comment.csv中\n",
    "\n",
    "## 提交方式\n",
    "\n",
    "github工程源代码文件链接+结果截图\n"
   ]
  },
  {
   "cell_type": "code",
   "execution_count": 1,
   "metadata": {},
   "outputs": [],
   "source": [
    "import pandas as pd"
   ]
  },
  {
   "cell_type": "code",
   "execution_count": 2,
   "metadata": {},
   "outputs": [],
   "source": [
    "def read_file(file_path):\n",
    "    # 读取csv文件并返回DataFrame\n",
    "    pass"
   ]
  },
  {
   "cell_type": "code",
   "execution_count": 3,
   "metadata": {},
   "outputs": [],
   "source": [
    "def write_file(file_path):\n",
    "    # 写入comment.csv文件中\n",
    "    pass"
   ]
  },
  {
   "cell_type": "code",
   "execution_count": 5,
   "metadata": {},
   "outputs": [],
   "source": [
    "def add_comment():\n",
    "    # 添加comment列，对4分以上的电影标‘推荐’，其他标‘不推荐’\n",
    "    pass"
   ]
  },
  {
   "cell_type": "code",
   "execution_count": 6,
   "metadata": {},
   "outputs": [],
   "source": [
    "def gather_rate(rates_df):\n",
    "    # 对每个评分档汇总共有多少部电影，并打印出来\n",
    "    pass"
   ]
  },
  {
   "cell_type": "code",
   "execution_count": 9,
   "metadata": {},
   "outputs": [],
   "source": [
    "def average_movie(rates_df):\n",
    "    # 汇总每部电影的平均分\n",
    "    pass"
   ]
  },
  {
   "cell_type": "markdown",
   "metadata": {},
   "source": [
    "1. 将每1分做为一档，电影的评分共分为5档，(0:1], (1,2], (2, 3], (3, 4], (4, 5], 打印出每个评分档共有多少部电影"
   ]
  },
  {
   "cell_type": "code",
   "execution_count": null,
   "metadata": {},
   "outputs": [],
   "source": [
    "rates = read_file('file/rates.csv')\n",
    "gather_rate(rates)"
   ]
  },
  {
   "cell_type": "markdown",
   "metadata": {},
   "source": [
    "2. 添加一个comment列，对平均分4分以上的电影标‘推荐’，其他标‘不推荐’，输出到一个comment.csv中"
   ]
  },
  {
   "cell_type": "code",
   "execution_count": null,
   "metadata": {},
   "outputs": [],
   "source": [
    "rates = read_file('file/rates.csv')\n",
    "movie_rates = averate_movie(rates)\n",
    "movie_with_comments = add_comment()\n",
    "write_file('comment.csv')"
   ]
  }
 ],
 "metadata": {
  "kernelspec": {
   "display_name": "Python 3",
   "language": "python",
   "name": "python3"
  },
  "language_info": {
   "codemirror_mode": {
    "name": "ipython",
    "version": 3
   },
   "file_extension": ".py",
   "mimetype": "text/x-python",
   "name": "python",
   "nbconvert_exporter": "python",
   "pygments_lexer": "ipython3",
   "version": "3.7.4"
  }
 },
 "nbformat": 4,
 "nbformat_minor": 4
}
