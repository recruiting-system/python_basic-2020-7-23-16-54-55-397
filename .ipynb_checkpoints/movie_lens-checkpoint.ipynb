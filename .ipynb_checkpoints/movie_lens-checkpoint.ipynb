{
 "cells": [
  {
   "cell_type": "markdown",
   "metadata": {},
   "source": [
    "## 背景\n",
    "\n",
    "`MovieLens`数据集是一个广泛用来研究推荐系统算法的一个数据集。这个数据集包含了来自[电影推荐网站](https://movielens.org/)多年积累的数据。我们将基于这个数据集练习数据的处理和分析。\n",
    "\n",
    "从 [grouplens](http://files.grouplens.org/datasets/movielens/ml-latest-small.zip) 下载数据集 MovieLens 1M Dataset。\n",
    "数据集包含6个文件：\n",
    "- `tags.csv` 用户给电影打的标签:\n",
    "    - userId\n",
    "    - movieId\n",
    "    - tag\n",
    "    - timestamp\n",
    "- `ratings.csv` 用户给电影的评分:\n",
    "    - userId\n",
    "    - movieId\n",
    "    - rating\n",
    "    - timestamp\n",
    "- `movies.csv` 电影信息:\n",
    "    - movieId\n",
    "    - title\n",
    "    - genres\n",
    "- `links.csv` 链接到其他资源的`id`:\n",
    "    - movieId\n",
    "    - imdbId\n",
    "    - tmbdId\n",
    "\n",
    "## 需求\n",
    "\n",
    "对数据集中的3个csv文件进行聚合，生成一个csv，包含电影的信息，其中每部电影一行，信息包括电影名称、主演、平均分、所有tag\n",
    "\n",
    "## 提交方式\n",
    "\n",
    "github工程源代码文件链接+结果截图"
   ]
  },
  {
   "cell_type": "code",
   "execution_count": 1,
   "metadata": {},
   "outputs": [],
   "source": [
    "import pandas as pd"
   ]
  },
  {
   "cell_type": "code",
   "execution_count": 3,
   "metadata": {},
   "outputs": [],
   "source": [
    "# todo：读入csv文件\n",
    "# 将多个csv文件进行连接\n",
    "# 对连接结果进行汇总聚合"
   ]
  },
  {
   "cell_type": "code",
   "execution_count": null,
   "metadata": {},
   "outputs": [],
   "source": []
  }
 ],
 "metadata": {
  "kernelspec": {
   "display_name": "Python 3",
   "language": "python",
   "name": "python3"
  },
  "language_info": {
   "codemirror_mode": {
    "name": "ipython",
    "version": 3
   },
   "file_extension": ".py",
   "mimetype": "text/x-python",
   "name": "python",
   "nbconvert_exporter": "python",
   "pygments_lexer": "ipython3",
   "version": "3.7.4"
  }
 },
 "nbformat": 4,
 "nbformat_minor": 4
}
